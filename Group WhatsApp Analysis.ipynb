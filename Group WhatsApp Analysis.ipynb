{
 "cells": [
  {
   "cell_type": "code",
   "execution_count": null,
   "id": "4f490e3b",
   "metadata": {},
   "outputs": [],
   "source": [
    "import os, re, regex, random, nltk\n",
    "import pandas as pd\n",
    "import numpy as np\n",
    "import emoji\n",
    "import plotly.express as px\n",
    "from collections import Counter\n",
    "import matplotlib.pyplot as plt\n",
    "import datetime\n",
    "from wordcloud import WordCloud, STOPWORDS, ImageColorGenerator\n",
    "%matplotlib inline"
   ]
  },
  {
   "cell_type": "code",
   "execution_count": null,
   "id": "cd535965",
   "metadata": {},
   "outputs": [],
   "source": [
    "def date_time_ios(s):\n",
    "    pattern = r\"^\\[([0-9]+)(\\/)([0-9]+)(\\/)([0-9][0-9]) ([0-9]+):([0-9]+):([0-9][0-9])\\]\"\n",
    "    result = re.match(pattern, s)\n",
    "    if result:\n",
    "        return True\n",
    "    return False\n",
    "\n",
    "def get_contact(s):\n",
    "    patterns = [\n",
    "        \"([\\w]+):\",\n",
    "        \"([\\w]+[\\s]+[\\w]+):\",\n",
    "        \"([\\w]+[\\s]+[\\w]+[\\s]+[\\w]+):\",\n",
    "        \"([+]\\d{2} \\d{3} \\d{3} \\d{4}):\",\n",
    "    ]\n",
    "    pattern = '^' + '|'.join(patterns)\n",
    "    result = re.match(pattern, s)\n",
    "    if result:\n",
    "        return True\n",
    "    return False\n",
    "\n",
    "def emojis(s):\n",
    "    emoji_list = []\n",
    "    data = re.findall('\\W', s)\n",
    "    for word in data:\n",
    "        if any(char in emoji.UNICODE_EMOJI for char in word):\n",
    "            emoji_list.append(word)\n",
    "    return emoji_list\n",
    "\n",
    "def get_message(line):\n",
    "    splitline = line.splitlineplit(\"] \")\n",
    "    dateTime = splitline[0]\n",
    "    date, time = dateTime.split(\" \")\n",
    "    date = date[1:]\n",
    "    message = \" \".join(splitline[1:])\n",
    "    if get_contact(message):\n",
    "        splitMessage = message.split(\": \")\n",
    "        contact = splitMessage[0]\n",
    "        message = \" \".join(splitMessage[1:])\n",
    "    else:\n",
    "        contact = None\n",
    "    return date, time, contact, message"
   ]
  },
  {
   "cell_type": "code",
   "execution_count": null,
   "id": "ef4ff37a",
   "metadata": {},
   "outputs": [],
   "source": [
    "converstion = \"WhatsApp_Group_Chats_PDTP3.txt\"\n",
    "data = []\n",
    "with open(converstion, encoding=\"utf-8\") as fp:\n",
    "    fp.readline()\n",
    "    message_buffer = []\n",
    "    date, time, contact = None, None, None\n",
    "    while True:\n",
    "        line = fp.readline()\n",
    "        if not line:\n",
    "            break\n",
    "        line = line.strip()\n",
    "        line = re.sub(r'[\\u202a\\u202c]', ' ', line)\n",
    "        line = re.sub(r'[\\xa0]', ' ', line)\n",
    "        if date_time_ios(line):\n",
    "            if len(message_buffer) > 0:\n",
    "                data.append([date, time, contact, ' '.join(message_buffer)])\n",
    "            message_buffer.clear()\n",
    "            date, time, contact, message = get_message(line)\n",
    "            message_buffer.append(message)\n",
    "        else: \n",
    "            message_buffer.append(line)\n",
    "\n",
    "df = pd.DataFrame(data, columns=['Date', 'Time', 'Contact', 'Message'])\n",
    "df[\"Date\"] = pd.to_datetime(df[\"Date\"])\n",
    "df[\"Message\"] = df[\"Message\"].str.lower()\n",
    "df[\"Contact\"] = df[\"Contact\"].str.lower()\n",
    "df.Date = pd.to_datetime(df.Date)\n",
    "df = df.dropna()\n",
    "df.reset_index(inplace= True)"
   ]
  },
  {
   "cell_type": "code",
   "execution_count": null,
   "id": "cf79aa10",
   "metadata": {},
   "outputs": [],
   "source": [
    "df.head(20)"
   ]
  },
  {
   "cell_type": "code",
   "execution_count": null,
   "id": "ab3fb6d8",
   "metadata": {},
   "outputs": [],
   "source": []
  }
 ],
 "metadata": {
  "kernelspec": {
   "display_name": "Python 3.8 (XPython)",
   "language": "python",
   "name": "xpython"
  },
  "language_info": {
   "file_extension": ".py",
   "mimetype": "text/x-python",
   "name": "python",
   "version": "3.8.12"
  }
 },
 "nbformat": 4,
 "nbformat_minor": 5
}
