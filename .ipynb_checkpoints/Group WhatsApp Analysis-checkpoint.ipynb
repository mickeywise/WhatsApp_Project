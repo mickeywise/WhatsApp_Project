{
 "cells": [
  {
   "cell_type": "code",
   "execution_count": null,
   "id": "4f490e3b",
   "metadata": {},
   "outputs": [],
   "source": [
    "import re\n",
    "import regex\n",
    "import pandas as pd\n",
    "import numpy as np\n",
    "import emoji\n",
    "import plotly.express as px\n",
    "from collections import Counter\n",
    "import matplotlib.pyplot as plt\n",
    "from os import path\n",
    "from PIL import Image\n",
    "import datetime\n",
    "from wordcloud import WordCloud, STOPWORDS, ImageColorGenerator\n",
    "%matplotlib inline"
   ]
  },
  {
   "cell_type": "code",
   "execution_count": null,
   "id": "7be20907",
   "metadata": {},
   "outputs": [],
   "source": [
    "def startsWithDateAndTimeAndroid(s):\n",
    "    pattern = '^([0-9]+)(\\/)([0-9]+)(\\/)([0-9]+), ([0-9]+):([0-9]+)[ ]?(AM|PM|am|pm)? -' \n",
    "    result = re.match(pattern, s)\n",
    "    if result:\n",
    "        return True\n",
    "    return False\n",
    "def startsWithDateAndTimeios(s):\n",
    "    pattern = '^([0-9]+)(\\/)([0-9]+)(\\/)([0-9]+), ([0-9]+):([0-9]+)[ ]?(AM|PM|am|pm)? -' \n",
    "    result = re.match(pattern, s)\n",
    "    if result:\n",
    "        return True\n",
    "    return False"
   ]
  },
  {
   "cell_type": "code",
   "execution_count": null,
   "id": "9b734404",
   "metadata": {},
   "outputs": [],
   "source": [
    "def FindAuthor(s):\n",
    "    s=s.split(\":\")\n",
    "    if len(s)==2:\n",
    "        return True\n",
    "    else:\n",
    "        return False"
   ]
  },
  {
   "cell_type": "code",
   "execution_count": null,
   "id": "1eb4d5b1",
   "metadata": {},
   "outputs": [],
   "source": [
    "def getDataPointAndroid(line):   \n",
    "    splitLine = line.split(' - ') \n",
    "    dateTime = splitLine[0]\n",
    "    date, time = dateTime.split(', ') \n",
    "    message = ' '.join(splitLine[1:])\n",
    "    if FindAuthor(message): \n",
    "        splitMessage = message.split(':') \n",
    "        author = splitMessage[0] \n",
    "        message = ' '.join(splitMessage[1:])\n",
    "    else:\n",
    "        author = None\n",
    "    return date, time, author, message"
   ]
  },
  {
   "cell_type": "code",
   "execution_count": null,
   "id": "be767f8c",
   "metadata": {},
   "outputs": [],
   "source": [
    "def getDataPointios(line):\n",
    "    splitLine = line.split('] ')\n",
    "    dateTime = splitLine[0]\n",
    "    if ',' in dateTime:\n",
    "        date, time = dateTime.split(',')\n",
    "    else:\n",
    "        date, time = dateTime.split(' ')\n",
    "    message = ' '.join(splitLine[1:])\n",
    "    if FindAuthor(message):\n",
    "        splitMessage = message.split(':')\n",
    "        author = splitMessage[0]\n",
    "        message = ' '.join(splitMessage[1:])\n",
    "    else:\n",
    "        author = None\n",
    "    if time[5]==\":\":\n",
    "        time = time[:5]+time[-3:]\n",
    "    else:\n",
    "        if 'AM' in time or 'PM' in time:\n",
    "            time = time[:6]+time[-3:]\n",
    "        else:\n",
    "            time = time[:6]\n",
    "    return date, time, author, message"
   ]
  },
  {
   "cell_type": "code",
   "execution_count": null,
   "id": "8357e06a",
   "metadata": {},
   "outputs": [],
   "source": [
    "def split_count(text):\n",
    "\n",
    "    emoji_list = []\n",
    "    data = regex.findall(r'\\X', text)\n",
    "    for word in data:\n",
    "        if any(char in emoji.UNICODE_EMOJI for char in word):\n",
    "            emoji_list.append(word)\n",
    "\n",
    "    return emoji_list"
   ]
  },
  {
   "cell_type": "code",
   "execution_count": null,
   "id": "1d7d502e",
   "metadata": {},
   "outputs": [],
   "source": [
    "parsedData = [] # List to keep track of data so it can be used by a Pandas dataframe\n",
    "conversationPath = 'C:/Users/MACHIRA/WhatsApp_Group_Chats_PDTP3.txt'\n",
    "with open(conversationPath, encoding=\"utf-8\", names=['text'], header=None) as fp:\n",
    "    device=''\n",
    "    first=fp.readline()\n",
    "    print(first)\n",
    "    if '[' in first:\n",
    "        device='ios'\n",
    "    else:\n",
    "        device=\"android\"\n",
    "    fp.readline() \n",
    "    messageBuffer = [] \n",
    "    date, time, author = None, None, None #message contains 4 things-\"date\",\"time\",\"author\",\"message\" \n",
    "    while True:\n",
    "        line = fp.readline() \n",
    "        if not line: \n",
    "            break\n",
    "        if device==\"ios\":\n",
    "            line = line.strip()\n",
    "            if startsWithDateAndTimeios(line):\n",
    "                if len(messageBuffer) > 0:\n",
    "                    parsedData.append([date, time, author, ' '.join(messageBuffer)])\n",
    "                messageBuffer.clear()\n",
    "                date, time, author, message = getDataPointios(line)\n",
    "                messageBuffer.append(message)\n",
    "            else:\n",
    "                line= (line.encode('ascii', 'ignore')).decode(\"utf-8\")\n",
    "                if startsWithDateAndTimeios(line):\n",
    "                    if len(messageBuffer) > 0:\n",
    "                        parsedData.append([date, time, author, ' '.join(messageBuffer)])\n",
    "                    messageBuffer.clear()\n",
    "                    date, time, author, message = getDataPointios(line)\n",
    "                    messageBuffer.append(message)\n",
    "                else:\n",
    "                    messageBuffer.append(line)\n",
    "        else:\n",
    "            line = line.strip()\n",
    "            if startsWithDateAndTimeAndroid(line): \n",
    "                if len(messageBuffer) > 0:\n",
    "                    parsedData.append([date, time, author, ' '.join(messageBuffer)])\n",
    "                messageBuffer.clear()\n",
    "                date, time, author, message = getDataPointAndroid(line)\n",
    "                messageBuffer.append(message)\n",
    "            else:\n",
    "                messageBuffer.append(line)"
   ]
  },
  {
   "cell_type": "code",
   "execution_count": null,
   "id": "d11fb67d",
   "metadata": {},
   "outputs": [],
   "source": [
    "if device =='android':\n",
    "        df = pd.DataFrame(parsedData, columns=['Date', 'Time', 'Author', 'Message'])\n",
    "        df[\"Date\"] = pd.to_datetime(df[\"Date\"])\n",
    "        df = df.dropna()\n",
    "        df[\"emoji\"] = df[\"Message\"].apply(split_count)\n",
    "        URLPATTERN = r'(https?://\\S+)'\n",
    "        df['urlcount'] = df.Message.apply(lambda x: re.findall(URLPATTERN, x)).str.len()\n",
    "else:\n",
    "        df = pd.DataFrame(parsedData, columns=['Date', 'Time', 'Author', 'Message']) # Initialising a pandas Dataframe.\n",
    "        df = df.dropna()\n",
    "       # df[\"Date\"] = df[\"Date\"].apply(dateconv)\n",
    "        df[\"Date\"] = pd.to_datetime(df[\"Date\"],format='%Y-%m-%d')\n",
    "        df[\"emoji\"] = df[\"Message\"].apply(split_count)\n",
    "        URLPATTERN = r'(https?://\\S+)'\n",
    "        df['urlcount'] = df.Message.apply(lambda x: re.findall(URLPATTERN, x)).str.len()"
   ]
  },
  {
   "cell_type": "code",
   "execution_count": null,
   "id": "4e6e64df",
   "metadata": {},
   "outputs": [],
   "source": [
    "df.head(2) #return first two rows of dataframe"
   ]
  },
  {
   "cell_type": "code",
   "execution_count": null,
   "id": "ecd1163f",
   "metadata": {},
   "outputs": [],
   "source": [
    "df.info() #statistics of the group chat"
   ]
  },
  {
   "cell_type": "code",
   "execution_count": null,
   "id": "b89721b4",
   "metadata": {},
   "outputs": [],
   "source": [
    "df.Author.unique() #returns all unique athors means all members of group"
   ]
  },
  {
   "cell_type": "code",
   "execution_count": null,
   "id": "91b23e81",
   "metadata": {},
   "outputs": [],
   "source": [
    "df = df.dropna() #drops all null values\n",
    "df.info()"
   ]
  },
  {
   "cell_type": "code",
   "execution_count": null,
   "id": "816af8ba",
   "metadata": {},
   "outputs": [],
   "source": [
    "total_messages = df.shape[0]\n",
    "print(total_messages)"
   ]
  },
  {
   "cell_type": "code",
   "execution_count": null,
   "id": "74fc0633",
   "metadata": {},
   "outputs": [],
   "source": [
    "media_messages = df[df['Message'] == '<Media omitted>'].shape[0]\n",
    "print(media_messages)"
   ]
  },
  {
   "cell_type": "code",
   "execution_count": null,
   "id": "7eb3d698",
   "metadata": {},
   "outputs": [],
   "source": [
    "URLPATTERN = r'(https?://\\S+)' #regex pattern matching with start with https\n",
    "df['urlcount'] = df.Message.apply(lambda x: re.findall(URLPATTERN, x)).str.len() #return url which matches with pattern and count it through lambda function\n",
    "links = np.sum(df.urlcount) #sumup all the links\n",
    "print(links)"
   ]
  },
  {
   "cell_type": "code",
   "execution_count": null,
   "id": "ee3fcc92",
   "metadata": {},
   "outputs": [],
   "source": [
    "link_messages= df[df['urlcount']>0]\n",
    "deleted_messages=df[(df[\"Message\"] == \" You deleted this message\")| (df[\"Message\"] == \" This message was deleted.\")]\n",
    "media_messages_df = df[(df['Message'] == ' <Media omitted>')|(df['Message'] == ' image omitted')|(df['Message'] == ' video omitted')|(df['Message'] == ' sticker omitted')]\n",
    "messages_df = df.drop(media_messages_df.index)\n",
    "messages_df = messages_df.drop(deleted_messages.index)\n",
    "messages_df = messages_df.drop(link_messages.index)"
   ]
  },
  {
   "cell_type": "code",
   "execution_count": null,
   "id": "09f12b49",
   "metadata": {},
   "outputs": [],
   "source": [
    "messages_df.info()"
   ]
  },
  {
   "cell_type": "code",
   "execution_count": null,
   "id": "c32370bf",
   "metadata": {},
   "outputs": [],
   "source": [
    "messages_df['Letter_Count'] = messages_df['Message'].apply(lambda s : len(s))\n",
    "messages_df['Word_Count'] = messages_df['Message'].apply(lambda s : len(s.split(' '))) #word is calculated by spliting sentence by whitespace\n",
    "messages_df[\"MessageCount\"]=1"
   ]
  },
  {
   "cell_type": "code",
   "execution_count": null,
   "id": "a5bf6eba",
   "metadata": {},
   "outputs": [],
   "source": [
    "messages_df.head(10)"
   ]
  },
  {
   "cell_type": "code",
   "execution_count": null,
   "id": "94a9b175",
   "metadata": {},
   "outputs": [],
   "source": [
    "messages_df[\"emojicount\"]= df['emoji'].str.len()"
   ]
  },
  {
   "cell_type": "code",
   "execution_count": null,
   "id": "90569e19",
   "metadata": {},
   "outputs": [],
   "source": [
    "frnds = messages_df.Author.unique()\n",
    "\n",
    "for i in range(len(frnds)):\n",
    "    # Filtering out messages of particular user\n",
    "    req_df= messages_df[messages_df[\"Author\"] == frnds[i]]\n",
    "    # req_df will contain messages of only one particular user\n",
    "    print(f'Stats of {frnds[i]} -')\n",
    "    # shape will print number of rows which indirectly means the number of messages\n",
    "    print('Messages Sent', req_df.shape[0])\n",
    "    #Word_Count contains of total words in one message. Sum of all words/ Total Messages will yield words per message\n",
    "    words_per_message = (np.sum(req_df['Word_Count']))/req_df.shape[0]\n",
    "    print('Words per message', words_per_message)\n",
    "    #media conists of media messages\n",
    "    media = media_messages_df[media_messages_df['Author'] == frnds[i]].shape[0]\n",
    "    print('Media Messages Sent', media)\n",
    "    # emojis conists of total emojis\n",
    "    emojis = sum(req_df['emoji'].str.len())\n",
    "    print('Emojis Sent', emojis)\n",
    "    #links consist of total links\n",
    "    links = sum(link_messages[link_messages['Author'] == frnds[i]][\"urlcount\"])   \n",
    "    print('Links Sent', links)   \n",
    "    print()"
   ]
  },
  {
   "cell_type": "code",
   "execution_count": null,
   "id": "60eb92cb",
   "metadata": {},
   "outputs": [],
   "source": [
    "total_emojis_list = list(set([a for b in messages_df.emoji for a in b]))\n",
    "total_emojis = len(total_emojis_list)\n",
    "print(total_emojis)"
   ]
  },
  {
   "cell_type": "code",
   "execution_count": null,
   "id": "ce3afbe1",
   "metadata": {},
   "outputs": [],
   "source": [
    "total_emojis_list = list([a for b in messages_df.emoji for a in b])\n",
    "emoji_dict = dict(Counter(total_emojis_list))\n",
    "emoji_dict = sorted(emoji_dict.items(), key=lambda x: x[1], reverse=True)\n",
    "print(emoji_dict)"
   ]
  },
  {
   "cell_type": "code",
   "execution_count": null,
   "id": "93bd2d06",
   "metadata": {},
   "outputs": [],
   "source": [
    "emoji_df = pd.DataFrame(emoji_dict, columns=['emoji', 'count'])\n",
    "emoji_df"
   ]
  },
  {
   "cell_type": "code",
   "execution_count": null,
   "id": "903b4e03",
   "metadata": {},
   "outputs": [],
   "source": [
    "import plotly.express as px\n",
    "fig = px.pie(emoji_df, values='count', names='emoji')\n",
    "fig.update_traces(textposition='inside', textinfo='percent+label')\n",
    "fig.show()"
   ]
  },
  {
   "cell_type": "code",
   "execution_count": null,
   "id": "cf777836",
   "metadata": {},
   "outputs": [],
   "source": [
    "messages_df['Time'].value_counts().head(10).plot.barh() # Top 10 Times of the day at which the most number of messages were sent\n",
    "plt.xlabel('Number of messages')\n",
    "plt.ylabel('Time')"
   ]
  },
  {
   "cell_type": "code",
   "execution_count": null,
   "id": "cd535965",
   "metadata": {},
   "outputs": [],
   "source": []
  }
 ],
 "metadata": {
  "kernelspec": {
   "display_name": "Python 3",
   "language": "python",
   "name": "python3"
  },
  "language_info": {
   "codemirror_mode": {
    "name": "ipython",
    "version": 3
   },
   "file_extension": ".py",
   "mimetype": "text/x-python",
   "name": "python",
   "nbconvert_exporter": "python",
   "pygments_lexer": "ipython3",
   "version": "3.8.8"
  }
 },
 "nbformat": 4,
 "nbformat_minor": 5
}
